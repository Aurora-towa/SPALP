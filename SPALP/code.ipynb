{
 "cells": [
  {
   "cell_type": "code",
   "execution_count": 1,
   "id": "9eb45a5f",
   "metadata": {},
   "outputs": [],
   "source": [
    "import xlrd\n",
    "import numpy as np\n",
    "import pandas as pd\n",
    "import matplotlib.pyplot as plt\n",
    "plt.rcParams['font.sans-serif'] = ['SimHei']  \n",
    "from sklearn.model_selection import train_test_split\n",
    "from sklearn.model_selection import cross_val_score\n",
    "from sklearn.metrics import precision_score,recall_score,f1_score\n",
    "from sklearn.metrics import precision_recall_curve,roc_curve,average_precision_score,auc\n",
    "from sklearn.model_selection import train_test_split\n",
    "from sklearn.neural_network import MLPClassifier\n",
    "from sklearn.preprocessing import StandardScaler, LabelEncoder\n",
    "from sklearn.metrics import classification_report"
   ]
  },
  {
   "cell_type": "code",
   "execution_count": 2,
   "id": "cb75b636",
   "metadata": {},
   "outputs": [
    {
     "name": "stdout",
     "output_type": "stream",
     "text": [
      "<class 'dict'>\n",
      "<class 'dict'>\n"
     ]
    }
   ],
   "source": [
    "data1 = xlrd.open_workbook('../SPALP/data/miRNA_sim.xlsx')\n",
    "table = data1.sheets()[0]\n",
    "nrows = table.nrows\n",
    "mirna_sim_dict = {}\n",
    "for cnt in range(nrows):\n",
    "    value = table.row_values(cnt)\n",
    "    mirna_sim_dict[cnt+1] = value\n",
    "print(type(mirna_sim_dict))\n",
    "data2 = xlrd.open_workbook('../SPALP/data/disease_sim.xlsx')\n",
    "table = data2.sheets()[0]\n",
    "nrows = table.nrows\n",
    "disease_sim_dict = {}\n",
    "for cnt in range(nrows):\n",
    "    value = table.row_values(cnt)\n",
    "    disease_sim_dict[cnt+1] = value\n",
    "print(type(disease_sim_dict))\n",
    "\n",
    "\n",
    "mm_sim_dict = mirna_sim_dict\n",
    "dd_sim_dict = disease_sim_dict\n",
    "total_sample = []\n",
    "Label = []"
   ]
  },
  {
   "cell_type": "code",
   "execution_count": 3,
   "id": "a7420f25",
   "metadata": {},
   "outputs": [],
   "source": [
    "def plotting(estimator,y_test):\n",
    "    fig,axes = plt.subplots(1,2,figsize=(10,5))\n",
    "    y_predict_proba = estimator.predict_proba(X_test)\n",
    "    precisions,recalls,thretholds = precision_recall_curve(y_test,y_predict_proba[:,1])\n",
    "    axes[0].plot(precisions,recalls)\n",
    "    axes[0].set_title(\"平均精准率：%.2f\"%average_precision_score(y_test,y_predict_proba[:,1]))\n",
    "    axes[0].set_xlabel(\"召回率\")\n",
    "    axes[0].set_ylabel(\"精准率\")\n",
    "\n",
    "    fpr,tpr,thretholds = roc_curve(y_test,y_predict_proba[:,1])\n",
    "    axes[1].plot(fpr,tpr)\n",
    "    axes[1].set_title(\"AUC值：%.2f\"%auc(fpr,tpr))\n",
    "    axes[1].set_xlabel(\"FPR\")\n",
    "    axes[1].set_ylabel(\"TPR\")"
   ]
  },
  {
   "cell_type": "markdown",
   "id": "2a05d4b2",
   "metadata": {},
   "source": [
    "# Combination"
   ]
  },
  {
   "cell_type": "code",
   "execution_count": 4,
   "id": "dc608d6e",
   "metadata": {},
   "outputs": [
    {
     "name": "stdout",
     "output_type": "stream",
     "text": [
      "(10849, 1006)\n",
      "(10849,)\n"
     ]
    }
   ],
   "source": [
    "mirna_data_dict = np.load('../SPALP/data/data(495).npy')\n",
    "disease_data_dict = np.load('../SPALP/data/data(383).npy')\n",
    "mirna_data_dict = {i + 1: row for i, row in enumerate(mirna_data_dict)}\n",
    "disease_data_dict = {i + 1: row for i, row in enumerate(disease_data_dict)}\n",
    "mm_sim_dict = mirna_sim_dict\n",
    "dd_sim_dict = disease_sim_dict\n",
    "total_sample = []\n",
    "Label = []\n",
    "with open('../SPALP/data/train_data.txt') as f:\n",
    "    for line in f:\n",
    "        item = line.strip().split('\\t')\n",
    "        mirna = int(item[0])\n",
    "        disease = int(item[1])\n",
    "        label = int(item[2])\n",
    "        Label.append(label)\n",
    "        mirna_ver = mm_sim_dict[mirna] + mirna_data_dict[mirna].tolist()\n",
    "        disease_ver = dd_sim_dict[disease] + disease_data_dict[disease].tolist()\n",
    "        ver = mirna_ver + disease_ver\n",
    "        total_sample.append(ver)\n",
    "total_sample.reverse()\n",
    "Label.reverse()\n",
    "feature5 = np.array(total_sample)\n",
    "target5 = np.array(Label)\n",
    "print(feature5.shape)\n",
    "print(target5.shape)"
   ]
  },
  {
   "cell_type": "code",
   "execution_count": 8,
   "id": "a445bf99",
   "metadata": {},
   "outputs": [
    {
     "name": "stdout",
     "output_type": "stream",
     "text": [
      "准确率： 0.8654262301003032\n"
     ]
    },
    {
     "data": {
      "image/png": "[encoded data removed]",
      "text/plain": [
       "<Figure size 1000x500 with 2 Axes>"
      ]
     },
     "metadata": {},
     "output_type": "display_data"
    },
    {
     "name": "stdout",
     "output_type": "stream",
     "text": [
      "MLP的AUC值为： 0.9756367954982568\n",
      "MLP的PR值为: 0.9725432860206675\n",
      "              precision    recall  f1-score   support\n",
      "\n",
      "           0     0.9264    0.9205    0.9234      1094\n",
      "           1     0.9197    0.9257    0.9226      1076\n",
      "\n",
      "    accuracy                         0.9230      2170\n",
      "   macro avg     0.9230    0.9231    0.9230      2170\n",
      "weighted avg     0.9231    0.9230    0.9230      2170\n",
      "\n"
     ]
    }
   ],
   "source": [
    "X_train,X_test,y_train,y_test = train_test_split(feature5,target5,test_size=0.2)\n",
    "mlp = MLPClassifier(hidden_layer_sizes=(200,), max_iter=300, activation='relu', solver='adam', random_state=42)\n",
    "scores = cross_val_score(mlp,feature5,target5,cv=5)\n",
    "print(\"准确率：\",scores.mean())\n",
    "mlp.fit(X_train,y_train)\n",
    "y_predict = mlp.predict(X_test)\n",
    "plotting(mlp,y_test)\n",
    "plt.show()\n",
    "y_predict_proba = mlp.predict_proba(X_test)\n",
    "fpr5,tpr5,thretholds5 = roc_curve(y_test,y_predict_proba[:,1])\n",
    "precisions5,recalls5,thretholds5 = precision_recall_curve(y_test,y_predict_proba[:,1])\n",
    "a5 = auc(fpr5,tpr5)\n",
    "b5 = average_precision_score(y_test,y_predict_proba[:,1])\n",
    "print('MLP的AUC值为：',a5)\n",
    "print('MLP的PR值为:',b5)\n",
    "print(classification_report(y_test,y_predict,digits = 4))"
   ]
  },
  {
   "cell_type": "code",
   "execution_count": null,
   "id": "6a11f694",
   "metadata": {},
   "outputs": [],
   "source": []
  }
 ],
 "metadata": {
  "kernelspec": {
   "display_name": "Python 3 (ipykernel)",
   "language": "python",
   "name": "python3"
  },
  "language_info": {
   "codemirror_mode": {
    "name": "ipython",
    "version": 3
   },
   "file_extension": ".py",
   "mimetype": "text/x-python",
   "name": "python",
   "nbconvert_exporter": "python",
   "pygments_lexer": "ipython3",
   "version": "3.11.4"
  }
 },
 "nbformat": 4,
 "nbformat_minor": 5
}
